{
 "cells": [
  {
   "cell_type": "markdown",
   "metadata": {},
   "source": [
    "# 零基础学习-1"
   ]
  },
  {
   "cell_type": "markdown",
   "metadata": {},
   "source": [
    "***用python设计第一个游戏***"
   ]
  },
  {
   "cell_type": "code",
   "execution_count": 3,
   "metadata": {},
   "outputs": [
    {
     "name": "stdout",
     "output_type": "stream",
     "text": [
      "------------------------------------------------\n",
      "不妨猜一下我现在心里想的是哪一个数字： 8\n",
      "你是我肚里的蛔虫咩\n",
      "猜中也没有奖励\n",
      "游戏结束，不玩啦^-^\n",
      "------------------------------------------------\n"
     ]
    }
   ],
   "source": [
    "print('------------------------------------------------')\n",
    "\n",
    "temp = input('不妨猜一下我现在心里想的是哪一个数字： ')\n",
    "guess = int(temp)\n",
    "if guess == 8:\n",
    "    print('你是我肚里的蛔虫咩')\n",
    "    print('猜中也没有奖励')\n",
    "else:\n",
    "    print('c猜错啦，我现在心里想的是数字8！')\n",
    "print('游戏结束，不玩啦^-^')       \n",
    "\n",
    "print('------------------------------------------------')"
   ]
  },
  {
   "cell_type": "markdown",
   "metadata": {},
   "source": [
    "***小插曲之变量和字符串***"
   ]
  },
  {
   "cell_type": "code",
   "execution_count": 5,
   "metadata": {},
   "outputs": [
    {
     "name": "stdout",
     "output_type": "stream",
     "text": [
      "小甲鱼\n"
     ]
    }
   ],
   "source": [
    "teacher = '小甲鱼'\n",
    "print(teacher)"
   ]
  },
  {
   "cell_type": "code",
   "execution_count": 8,
   "metadata": {},
   "outputs": [
    {
     "data": {
      "text/plain": [
       "13"
      ]
     },
     "execution_count": 8,
     "metadata": {},
     "output_type": "execute_result"
    }
   ],
   "source": [
    "5 + 8"
   ]
  },
  {
   "cell_type": "code",
   "execution_count": 9,
   "metadata": {},
   "outputs": [
    {
     "data": {
      "text/plain": [
       "'58'"
      ]
     },
     "execution_count": 9,
     "metadata": {},
     "output_type": "execute_result"
    }
   ],
   "source": [
    "'5' + '8'"
   ]
  },
  {
   "cell_type": "markdown",
   "metadata": {},
   "source": [
    "1. 单引号和双引号"
   ]
  },
  {
   "cell_type": "code",
   "execution_count": 14,
   "metadata": {},
   "outputs": [
    {
     "name": "stdout",
     "output_type": "stream",
     "text": [
      "Let's go!\n"
     ]
    }
   ],
   "source": [
    "print('Let\\'s go!') #转移字符"
   ]
  },
  {
   "cell_type": "code",
   "execution_count": 11,
   "metadata": {},
   "outputs": [
    {
     "name": "stdout",
     "output_type": "stream",
     "text": [
      "Let's go!\n"
     ]
    }
   ],
   "source": [
    "print(\"Let's go!\")"
   ]
  },
  {
   "cell_type": "markdown",
   "metadata": {},
   "source": [
    "2. 原始字符串"
   ]
  },
  {
   "cell_type": "code",
   "execution_count": 12,
   "metadata": {},
   "outputs": [
    {
     "name": "stdout",
     "output_type": "stream",
     "text": [
      "C:\n",
      "ow\n"
     ]
    }
   ],
   "source": [
    "str = 'C:\\now'\n",
    "print(str)"
   ]
  },
  {
   "cell_type": "code",
   "execution_count": 15,
   "metadata": {},
   "outputs": [
    {
     "name": "stdout",
     "output_type": "stream",
     "text": [
      "C:\\now\n"
     ]
    }
   ],
   "source": [
    "str = 'C:\\\\now' #转移字符\n",
    "print(str)"
   ]
  },
  {
   "cell_type": "code",
   "execution_count": 17,
   "metadata": {},
   "outputs": [
    {
     "name": "stdout",
     "output_type": "stream",
     "text": [
      "F:\\Python Learning`01\\ProblemSet3\n"
     ]
    }
   ],
   "source": [
    "str = 'F:\\Python Learning\\x6001\\ProblemSet3'\n",
    "print(str)"
   ]
  },
  {
   "cell_type": "code",
   "execution_count": 18,
   "metadata": {},
   "outputs": [
    {
     "name": "stdout",
     "output_type": "stream",
     "text": [
      "F:\\Python Learning\\x6001\\ProblemSet3\n"
     ]
    }
   ],
   "source": [
    "str = 'F:\\Python Learning\\\\x6001\\\\ProblemSet3'\n",
    "print(str)"
   ]
  },
  {
   "cell_type": "code",
   "execution_count": 16,
   "metadata": {},
   "outputs": [
    {
     "name": "stdout",
     "output_type": "stream",
     "text": [
      "C:\\now\n"
     ]
    }
   ],
   "source": [
    "str = r'C:\\now' #原始字符串使用简单，只需在字符串前边追加一个英文字母r即可\n",
    "print(str)"
   ]
  },
  {
   "cell_type": "markdown",
   "metadata": {},
   "source": [
    "3. 长字符串"
   ]
  },
  {
   "cell_type": "code",
   "execution_count": 147,
   "metadata": {},
   "outputs": [],
   "source": [
    "str =\"\"\"Python是一种广泛使用的解释型,\n",
    "高级编程\n",
    "通用型编程语言\n",
    "相比于C++或Java\n",
    "Python让开发者能够用更少的代码表达想法\n",
    "不管是小型还是大型程序,该语言都试图让程序的结构清晰明了......\n",
    "\"\"\"  #三重双引号"
   ]
  },
  {
   "cell_type": "code",
   "execution_count": 148,
   "metadata": {},
   "outputs": [
    {
     "data": {
      "text/plain": [
       "'Python是一种广泛使用的解释型,\\n高级编程\\n通用型编程语言\\n相比于C++或Java\\nPython让开发者能够用更少的代码表达想法\\n不管是小型还是大型程序,该语言都试图让程序的结构清晰明了......\\n'"
      ]
     },
     "execution_count": 148,
     "metadata": {},
     "output_type": "execute_result"
    }
   ],
   "source": [
    "str"
   ]
  },
  {
   "cell_type": "code",
   "execution_count": 149,
   "metadata": {
    "scrolled": true
   },
   "outputs": [
    {
     "name": "stdout",
     "output_type": "stream",
     "text": [
      "Python是一种广泛使用的解释型,\n",
      "高级编程\n",
      "通用型编程语言\n",
      "相比于C++或Java\n",
      "Python让开发者能够用更少的代码表达想法\n",
      "不管是小型还是大型程序,该语言都试图让程序的结构清晰明了......\n",
      "\n"
     ]
    }
   ],
   "source": [
    "print(str)"
   ]
  },
  {
   "cell_type": "markdown",
   "metadata": {},
   "source": [
    "***改进我们的小游戏***"
   ]
  },
  {
   "cell_type": "markdown",
   "metadata": {},
   "source": [
    "1. 条件分支"
   ]
  },
  {
   "cell_type": "code",
   "execution_count": 3,
   "metadata": {},
   "outputs": [
    {
     "name": "stdout",
     "output_type": "stream",
     "text": [
      "------------------------------------------------\n",
      "不妨猜一下我现在心里想的是哪一个数字： 9\n",
      "大了大了\n",
      "游戏结束，不玩啦^-^\n",
      "------------------------------------------------\n"
     ]
    }
   ],
   "source": [
    "print('------------------------------------------------')\n",
    "\n",
    "temp = input('不妨猜一下我现在心里想的是哪一个数字： ')\n",
    "guess = int(temp)\n",
    "\n",
    "if guess == 8:\n",
    "    print('你是我肚里的蛔虫咩')\n",
    "    print('猜中也没有奖励')\n",
    "else:\n",
    "    if guess > 8:\n",
    "        print('大了大了')\n",
    "    else:\n",
    "        print('小了小了')\n",
    "        print('猜错啦，我现在心里想的是数字8！')\n",
    "print('游戏结束，不玩啦^-^')       \n",
    "\n",
    "print('------------------------------------------------')"
   ]
  },
  {
   "cell_type": "markdown",
   "metadata": {},
   "source": [
    "2. while循环"
   ]
  },
  {
   "cell_type": "code",
   "execution_count": 1,
   "metadata": {},
   "outputs": [
    {
     "name": "stdout",
     "output_type": "stream",
     "text": [
      "------------------------------------------------\n",
      "不妨猜一下我现在心里想的是哪一个数字： 7\n",
      "不妨猜一下我现在心里想的是哪一个数字： 7\n",
      "小了小了\n",
      "不妨猜一下我现在心里想的是哪一个数字： \n"
     ]
    },
    {
     "ename": "ValueError",
     "evalue": "invalid literal for int() with base 10: ''",
     "output_type": "error",
     "traceback": [
      "\u001b[1;31m---------------------------------------------------------------------------\u001b[0m",
      "\u001b[1;31mValueError\u001b[0m                                Traceback (most recent call last)",
      "\u001b[1;32m<ipython-input-1-c15e4f318331>\u001b[0m in \u001b[0;36m<module>\u001b[1;34m\u001b[0m\n\u001b[0;32m      7\u001b[0m \u001b[1;33m\u001b[0m\u001b[0m\n\u001b[0;32m      8\u001b[0m     \u001b[0mtemp\u001b[0m \u001b[1;33m=\u001b[0m \u001b[0minput\u001b[0m\u001b[1;33m(\u001b[0m\u001b[1;34m'不妨猜一下我现在心里想的是哪一个数字： '\u001b[0m\u001b[1;33m)\u001b[0m\u001b[1;33m\u001b[0m\u001b[0m\n\u001b[1;32m----> 9\u001b[1;33m     \u001b[0mguess\u001b[0m \u001b[1;33m=\u001b[0m \u001b[0mint\u001b[0m\u001b[1;33m(\u001b[0m\u001b[0mtemp\u001b[0m\u001b[1;33m)\u001b[0m\u001b[1;33m\u001b[0m\u001b[0m\n\u001b[0m\u001b[0;32m     10\u001b[0m     \u001b[1;32mif\u001b[0m \u001b[0mguess\u001b[0m \u001b[1;33m==\u001b[0m \u001b[1;36m8\u001b[0m\u001b[1;33m:\u001b[0m\u001b[1;33m\u001b[0m\u001b[0m\n\u001b[0;32m     11\u001b[0m         \u001b[0mprint\u001b[0m\u001b[1;33m(\u001b[0m\u001b[1;34m'你是我肚里的蛔虫咩'\u001b[0m\u001b[1;33m)\u001b[0m\u001b[1;33m\u001b[0m\u001b[0m\n",
      "\u001b[1;31mValueError\u001b[0m: invalid literal for int() with base 10: ''"
     ]
    }
   ],
   "source": [
    "print('------------------------------------------------')\n",
    "\n",
    "temp = input('不妨猜一下我现在心里想的是哪一个数字： ')\n",
    "guess = int(temp)\n",
    "\n",
    "while guess != 8:\n",
    "\n",
    "    temp = input('不妨猜一下我现在心里想的是哪一个数字： ')\n",
    "    guess = int(temp)\n",
    "    if guess == 8:\n",
    "        print('你是我肚里的蛔虫咩')\n",
    "        print('猜中也没有奖励')\n",
    "    else:\n",
    "        if guess > 8:\n",
    "            print('大了大了')\n",
    "        else:\n",
    "            print('小了小了')\n",
    "print('游戏结束，不玩啦^-^')       \n",
    "\n",
    "print('------------------------------------------------')"
   ]
  },
  {
   "cell_type": "code",
   "execution_count": 1,
   "metadata": {},
   "outputs": [
    {
     "name": "stdout",
     "output_type": "stream",
     "text": [
      "------------------------------------------------\n",
      "不妨猜一下我现在心里想的是哪一个数字： 7\n",
      "小了小了\n",
      "不妨猜一下我现在心里想的是哪一个数字： 9\n",
      "大了大了\n",
      "不妨猜一下我现在心里想的是哪一个数字： 8\n",
      "你是我肚里的蛔虫咩\n",
      "猜中也没有奖励\n",
      "游戏结束，不玩啦^-^\n",
      "------------------------------------------------\n"
     ]
    }
   ],
   "source": [
    "print('------------------------------------------------')\n",
    "\n",
    "#temp = input('不妨猜一下我现在心里想的是哪一个数字： ')\n",
    "#guess = int(temp)\n",
    "\n",
    "while True:\n",
    "    temp = input('不妨猜一下我现在心里想的是哪一个数字： ')\n",
    "    guess = int(temp)\n",
    "    if guess == 8:\n",
    "        print('你是我肚里的蛔虫咩')\n",
    "        print('猜中也没有奖励')\n",
    "        break\n",
    "    else:\n",
    "        if guess > 8:\n",
    "            print('大了大了')\n",
    "        else:\n",
    "            print('小了小了')\n",
    "print('游戏结束，不玩啦^-^')       \n",
    "\n",
    "print('------------------------------------------------')"
   ]
  },
  {
   "cell_type": "markdown",
   "metadata": {},
   "source": [
    "3. 引入random模块"
   ]
  },
  {
   "cell_type": "code",
   "execution_count": 5,
   "metadata": {},
   "outputs": [
    {
     "name": "stdout",
     "output_type": "stream",
     "text": [
      "------------------------------------------------\n",
      "不妨猜一下我现在心里想的是哪一个数字： 5\n",
      "哎呀，猜错啦，请重新输入吧： 5\n",
      "大了大了\n",
      "哎呀，猜错啦，请重新输入吧： 3\n",
      "大了大了\n",
      "哎呀，猜错啦，请重新输入吧： 1\n",
      "你是我肚里的蛔虫咩\n",
      "猜中也没有奖励\n",
      "游戏结束，不玩啦^-^\n",
      "------------------------------------------------\n"
     ]
    }
   ],
   "source": [
    "import random\n",
    "secret = random.randint(1,10)\n",
    "print('------------------------------------------------')\n",
    "\n",
    "temp = input('不妨猜一下我现在心里想的是哪一个数字： ')\n",
    "guess = int(temp)\n",
    "\n",
    "while guess != secret:\n",
    "\n",
    "    temp = input('哎呀，猜错啦，请重新输入吧： ')\n",
    "    guess = int(temp)\n",
    "    if guess == secret:\n",
    "        print('你是我肚里的蛔虫咩')\n",
    "        print('猜中也没有奖励')\n",
    "    else:\n",
    "        if guess > secret:\n",
    "            print('大了大了')\n",
    "        else:\n",
    "            print('小了小了')\n",
    "print('游戏结束，不玩啦^-^')       \n",
    "\n",
    "print('------------------------------------------------')"
   ]
  },
  {
   "cell_type": "code",
   "execution_count": 2,
   "metadata": {},
   "outputs": [
    {
     "name": "stdout",
     "output_type": "stream",
     "text": [
      "------------------------------------------------\n",
      "不妨猜一下我现在心里想的是哪一个数字： 7\n",
      "大了大了\n",
      "不妨猜一下我现在心里想的是哪一个数字： 5\n",
      "大了大了\n",
      "不妨猜一下我现在心里想的是哪一个数字： 3\n",
      "你是我肚里的蛔虫咩\n",
      "猜中也没有奖励\n",
      "游戏结束，不玩啦^-^\n",
      "------------------------------------------------\n"
     ]
    }
   ],
   "source": [
    "import random\n",
    "secret = random.randint(1,10)\n",
    "\n",
    "print('------------------------------------------------')\n",
    "\n",
    "#temp = input('不妨猜一下我现在心里想的是哪一个数字： ')\n",
    "#guess = int(temp)\n",
    "\n",
    "while True:\n",
    "    temp = input('不妨猜一下我现在心里想的是哪一个数字： ')\n",
    "    guess = int(temp)\n",
    "    if guess == secret:\n",
    "        print('你是我肚里的蛔虫咩')\n",
    "        print('猜中也没有奖励')\n",
    "        break\n",
    "    else:\n",
    "        if guess > secret:\n",
    "            print('大了大了')\n",
    "        else:\n",
    "            print('小了小了')\n",
    "print('游戏结束，不玩啦^-^')       \n",
    "\n",
    "print('------------------------------------------------')"
   ]
  },
  {
   "cell_type": "code",
   "execution_count": 7,
   "metadata": {},
   "outputs": [
    {
     "name": "stdout",
     "output_type": "stream",
     "text": [
      "------------------------------------------------\n",
      "不妨猜一下我现在心里想的是哪一个数字： 5\n",
      "小了小了\n",
      "哎呀，猜错啦，请重新输入吧： 7\n",
      "小了小了\n",
      "哎呀，猜错啦，请重新输入吧： 8\n",
      "你是我肚里的蛔虫咩\n",
      "猜中也没有奖励\n",
      "游戏结束，不玩啦^-^\n",
      "------------------------------------------------\n"
     ]
    }
   ],
   "source": [
    "import random\n",
    "secret = random.randint(1,10)\n",
    "\n",
    "print('------------------------------------------------')\n",
    "\n",
    "temp = input('不妨猜一下我现在心里想的是哪一个数字： ')\n",
    "guess = int(temp)\n",
    "\n",
    "while guess != secret:\n",
    "\n",
    "    if guess == secret:\n",
    "        print('你是我肚里的蛔虫咩')\n",
    "        print('猜中也没有奖励')\n",
    "    else:\n",
    "        if guess > secret:\n",
    "            print('大了大了')\n",
    "            temp = input('哎呀，猜错啦，请重新输入吧： ')\n",
    "            guess = int(temp)\n",
    "        else:\n",
    "            print('小了小了')\n",
    "            temp = input('哎呀，猜错啦，请重新输入吧： ')\n",
    "            guess = int(temp)\n",
    "else:\n",
    "    print('你是我肚里的蛔虫咩')\n",
    "    print('猜中也没有奖励')\n",
    "print('游戏结束，不玩啦^-^')       \n",
    "\n",
    "print('------------------------------------------------')"
   ]
  },
  {
   "cell_type": "markdown",
   "metadata": {},
   "source": [
    "***闲聊之Python的数据类型***"
   ]
  },
  {
   "cell_type": "markdown",
   "metadata": {},
   "source": [
    "1. python的一些数值类型\n",
    "    * 整型\n",
    "    * 浮点型\n",
    "    * 布尔类型(特殊的整型)\n",
    "    * e记法(浮点型)"
   ]
  },
  {
   "cell_type": "code",
   "execution_count": 8,
   "metadata": {},
   "outputs": [
    {
     "data": {
      "text/plain": [
       "150000"
      ]
     },
     "execution_count": 8,
     "metadata": {},
     "output_type": "execute_result"
    }
   ],
   "source": [
    "150000"
   ]
  },
  {
   "cell_type": "code",
   "execution_count": 9,
   "metadata": {},
   "outputs": [
    {
     "data": {
      "text/plain": [
       "150000.0"
      ]
     },
     "execution_count": 9,
     "metadata": {},
     "output_type": "execute_result"
    }
   ],
   "source": [
    "1.5e5"
   ]
  },
  {
   "cell_type": "code",
   "execution_count": 10,
   "metadata": {},
   "outputs": [
    {
     "data": {
      "text/plain": [
       "2"
      ]
     },
     "execution_count": 10,
     "metadata": {},
     "output_type": "execute_result"
    }
   ],
   "source": [
    "True + True"
   ]
  },
  {
   "cell_type": "markdown",
   "metadata": {},
   "source": [
    "2. 类型转换"
   ]
  },
  {
   "cell_type": "code",
   "execution_count": 11,
   "metadata": {},
   "outputs": [],
   "source": [
    "a = '520'"
   ]
  },
  {
   "cell_type": "code",
   "execution_count": 12,
   "metadata": {},
   "outputs": [
    {
     "data": {
      "text/plain": [
       "520"
      ]
     },
     "execution_count": 12,
     "metadata": {},
     "output_type": "execute_result"
    }
   ],
   "source": [
    "b = int(a) #转整型\n",
    "b"
   ]
  },
  {
   "cell_type": "code",
   "execution_count": 13,
   "metadata": {},
   "outputs": [
    {
     "data": {
      "text/plain": [
       "6"
      ]
     },
     "execution_count": 13,
     "metadata": {},
     "output_type": "execute_result"
    }
   ],
   "source": [
    "a = 6.99\n",
    "b = int(a) \n",
    "b"
   ]
  },
  {
   "cell_type": "code",
   "execution_count": 14,
   "metadata": {},
   "outputs": [
    {
     "data": {
      "text/plain": [
       "520.0"
      ]
     },
     "execution_count": 14,
     "metadata": {},
     "output_type": "execute_result"
    }
   ],
   "source": [
    "a = '520'\n",
    "b = float(a) #转浮点型\n",
    "b"
   ]
  },
  {
   "cell_type": "code",
   "execution_count": 15,
   "metadata": {},
   "outputs": [
    {
     "data": {
      "text/plain": [
       "'6.99'"
      ]
     },
     "execution_count": 15,
     "metadata": {},
     "output_type": "execute_result"
    }
   ],
   "source": [
    "a = 6.99\n",
    "b = str(a) #转字符串\n",
    "b"
   ]
  },
  {
   "cell_type": "code",
   "execution_count": null,
   "metadata": {},
   "outputs": [],
   "source": [
    "3. 获得关于类型的信息"
   ]
  },
  {
   "cell_type": "code",
   "execution_count": 16,
   "metadata": {},
   "outputs": [
    {
     "data": {
      "text/plain": [
       "str"
      ]
     },
     "execution_count": 16,
     "metadata": {},
     "output_type": "execute_result"
    }
   ],
   "source": [
    "a = '520'\n",
    "type(a)"
   ]
  },
  {
   "cell_type": "code",
   "execution_count": 18,
   "metadata": {},
   "outputs": [
    {
     "data": {
      "text/plain": [
       "False"
      ]
     },
     "execution_count": 18,
     "metadata": {},
     "output_type": "execute_result"
    }
   ],
   "source": [
    "a = '520'\n",
    "isinstance(a,int)"
   ]
  },
  {
   "cell_type": "code",
   "execution_count": 19,
   "metadata": {},
   "outputs": [
    {
     "data": {
      "text/plain": [
       "True"
      ]
     },
     "execution_count": 19,
     "metadata": {},
     "output_type": "execute_result"
    }
   ],
   "source": [
    "a = '520'\n",
    "isinstance(a,str)"
   ]
  },
  {
   "cell_type": "markdown",
   "metadata": {},
   "source": [
    "***Python之常用的操作符***"
   ]
  },
  {
   "cell_type": "markdown",
   "metadata": {},
   "source": [
    "![优先级](./优先级.png)"
   ]
  },
  {
   "cell_type": "code",
   "execution_count": 20,
   "metadata": {},
   "outputs": [],
   "source": [
    "a = b = c = d = 10\n",
    "a += 1\n",
    "b -= 3\n",
    "c *= 10\n",
    "d /= 8"
   ]
  },
  {
   "cell_type": "code",
   "execution_count": 21,
   "metadata": {},
   "outputs": [
    {
     "data": {
      "text/plain": [
       "11"
      ]
     },
     "execution_count": 21,
     "metadata": {},
     "output_type": "execute_result"
    }
   ],
   "source": [
    "a"
   ]
  },
  {
   "cell_type": "code",
   "execution_count": 22,
   "metadata": {},
   "outputs": [
    {
     "data": {
      "text/plain": [
       "7"
      ]
     },
     "execution_count": 22,
     "metadata": {},
     "output_type": "execute_result"
    }
   ],
   "source": [
    "b"
   ]
  },
  {
   "cell_type": "code",
   "execution_count": 23,
   "metadata": {},
   "outputs": [
    {
     "data": {
      "text/plain": [
       "100"
      ]
     },
     "execution_count": 23,
     "metadata": {},
     "output_type": "execute_result"
    }
   ],
   "source": [
    "c"
   ]
  },
  {
   "cell_type": "code",
   "execution_count": 24,
   "metadata": {},
   "outputs": [
    {
     "data": {
      "text/plain": [
       "1.25"
      ]
     },
     "execution_count": 24,
     "metadata": {},
     "output_type": "execute_result"
    }
   ],
   "source": [
    "d"
   ]
  },
  {
   "cell_type": "code",
   "execution_count": 25,
   "metadata": {},
   "outputs": [
    {
     "data": {
      "text/plain": [
       "1"
      ]
     },
     "execution_count": 25,
     "metadata": {},
     "output_type": "execute_result"
    }
   ],
   "source": [
    "d = 10\n",
    "d // 8"
   ]
  },
  {
   "cell_type": "code",
   "execution_count": 26,
   "metadata": {},
   "outputs": [
    {
     "data": {
      "text/plain": [
       "2"
      ]
     },
     "execution_count": 26,
     "metadata": {},
     "output_type": "execute_result"
    }
   ],
   "source": [
    "d % 8"
   ]
  },
  {
   "cell_type": "code",
   "execution_count": 27,
   "metadata": {},
   "outputs": [
    {
     "data": {
      "text/plain": [
       "100"
      ]
     },
     "execution_count": 27,
     "metadata": {},
     "output_type": "execute_result"
    }
   ],
   "source": [
    "d ** 2"
   ]
  },
  {
   "cell_type": "markdown",
   "metadata": {},
   "source": [
    "1. 优先级问题"
   ]
  },
  {
   "cell_type": "code",
   "execution_count": 28,
   "metadata": {},
   "outputs": [
    {
     "data": {
      "text/plain": [
       "-12.5"
      ]
     },
     "execution_count": 28,
     "metadata": {},
     "output_type": "execute_result"
    }
   ],
   "source": [
    "-3 * 2 + 5 / -2 -4"
   ]
  },
  {
   "cell_type": "code",
   "execution_count": 33,
   "metadata": {},
   "outputs": [
    {
     "data": {
      "text/plain": [
       "-12.5"
      ]
     },
     "execution_count": 33,
     "metadata": {},
     "output_type": "execute_result"
    }
   ],
   "source": [
    "((-3)* 2) + (5 / (-2))- 4"
   ]
  },
  {
   "cell_type": "code",
   "execution_count": 35,
   "metadata": {},
   "outputs": [
    {
     "data": {
      "text/plain": [
       "-9"
      ]
     },
     "execution_count": 35,
     "metadata": {},
     "output_type": "execute_result"
    }
   ],
   "source": [
    "-3 ** 2"
   ]
  },
  {
   "cell_type": "code",
   "execution_count": 36,
   "metadata": {},
   "outputs": [
    {
     "data": {
      "text/plain": [
       "0.1111111111111111"
      ]
     },
     "execution_count": 36,
     "metadata": {},
     "output_type": "execute_result"
    }
   ],
   "source": [
    "3 ** ( - 2 )"
   ]
  },
  {
   "cell_type": "markdown",
   "metadata": {},
   "source": [
    "2. 比较操作符\n",
    "    * < , <=, >, >=, ==, !="
   ]
  },
  {
   "cell_type": "code",
   "execution_count": 34,
   "metadata": {},
   "outputs": [
    {
     "data": {
      "text/plain": [
       "True"
      ]
     },
     "execution_count": 34,
     "metadata": {},
     "output_type": "execute_result"
    }
   ],
   "source": [
    "( 3 < 4 ) and ( 4 < 5 )"
   ]
  },
  {
   "cell_type": "code",
   "execution_count": 39,
   "metadata": {},
   "outputs": [
    {
     "data": {
      "text/plain": [
       "True"
      ]
     },
     "execution_count": 39,
     "metadata": {},
     "output_type": "execute_result"
    }
   ],
   "source": [
    "3 < 4 < 5"
   ]
  },
  {
   "cell_type": "markdown",
   "metadata": {},
   "source": [
    "3. 逻辑操作符\n",
    "    * not, and, or(优先级高低从左到右)"
   ]
  },
  {
   "cell_type": "code",
   "execution_count": 40,
   "metadata": {},
   "outputs": [
    {
     "data": {
      "text/plain": [
       "False"
      ]
     },
     "execution_count": 40,
     "metadata": {},
     "output_type": "execute_result"
    }
   ],
   "source": [
    "not True"
   ]
  },
  {
   "cell_type": "code",
   "execution_count": 41,
   "metadata": {},
   "outputs": [
    {
     "data": {
      "text/plain": [
       "True"
      ]
     },
     "execution_count": 41,
     "metadata": {},
     "output_type": "execute_result"
    }
   ],
   "source": [
    "not 0"
   ]
  },
  {
   "cell_type": "code",
   "execution_count": 42,
   "metadata": {},
   "outputs": [
    {
     "data": {
      "text/plain": [
       "False"
      ]
     },
     "execution_count": 42,
     "metadata": {},
     "output_type": "execute_result"
    }
   ],
   "source": [
    "not 4"
   ]
  },
  {
   "cell_type": "markdown",
   "metadata": {},
   "source": [
    "***了不起的分支和循环***"
   ]
  },
  {
   "cell_type": "markdown",
   "metadata": {},
   "source": [
    "![打飞机框架](./打飞机框架.png)"
   ]
  },
  {
   "cell_type": "markdown",
   "metadata": {},
   "source": [
    "![分数转换](./分数转换.png)"
   ]
  },
  {
   "cell_type": "code",
   "execution_count": 45,
   "metadata": {},
   "outputs": [
    {
     "name": "stdout",
     "output_type": "stream",
     "text": [
      "请输入你的分数：89\n",
      "B\n"
     ]
    }
   ],
   "source": [
    "score = int(input('请输入你的分数：'))\n",
    "if 100 >= score >= 90:\n",
    "    print(\"A\")\n",
    "elif 90 > score >= 80:\n",
    "    print(\"B\")\n",
    "elif 80 > score >= 60:\n",
    "    print(\"C\")\n",
    "elif 60 > score >= 0:\n",
    "    print(\"C\")\n",
    "else:\n",
    "    print('输入错误')"
   ]
  },
  {
   "cell_type": "markdown",
   "metadata": {},
   "source": [
    "1. Python可以有效避免“悬挂else”\n",
    "![悬挂else](./悬挂else.png)"
   ]
  },
  {
   "cell_type": "markdown",
   "metadata": {},
   "source": [
    "2. 条件表达式(三元操作符)"
   ]
  },
  {
   "cell_type": "code",
   "execution_count": 47,
   "metadata": {},
   "outputs": [
    {
     "data": {
      "text/plain": [
       "4"
      ]
     },
     "execution_count": 47,
     "metadata": {},
     "output_type": "execute_result"
    }
   ],
   "source": [
    "x, y =4, 5\n",
    "if x < y:\n",
    "    small = x\n",
    "else:\n",
    "    small = y\n",
    "small"
   ]
  },
  {
   "cell_type": "code",
   "execution_count": 49,
   "metadata": {},
   "outputs": [
    {
     "data": {
      "text/plain": [
       "4"
      ]
     },
     "execution_count": 49,
     "metadata": {},
     "output_type": "execute_result"
    }
   ],
   "source": [
    "small = x if x < y else y\n",
    "small"
   ]
  },
  {
   "cell_type": "markdown",
   "metadata": {},
   "source": [
    "3. 断言(assert)\n",
    "![断言](./断言.png)"
   ]
  },
  {
   "cell_type": "code",
   "execution_count": 50,
   "metadata": {},
   "outputs": [
    {
     "ename": "AssertionError",
     "evalue": "",
     "output_type": "error",
     "traceback": [
      "\u001b[1;31m---------------------------------------------------------------------------\u001b[0m",
      "\u001b[1;31mAssertionError\u001b[0m                            Traceback (most recent call last)",
      "\u001b[1;32m<ipython-input-50-0a43d59b5385>\u001b[0m in \u001b[0;36m<module>\u001b[1;34m\u001b[0m\n\u001b[1;32m----> 1\u001b[1;33m \u001b[1;32massert\u001b[0m \u001b[1;36m3\u001b[0m \u001b[1;33m>\u001b[0m \u001b[1;36m4\u001b[0m\u001b[1;33m\u001b[0m\u001b[0m\n\u001b[0m",
      "\u001b[1;31mAssertionError\u001b[0m: "
     ]
    }
   ],
   "source": [
    "assert 3 > 4"
   ]
  },
  {
   "cell_type": "code",
   "execution_count": 51,
   "metadata": {},
   "outputs": [],
   "source": [
    "assert 4 > 3"
   ]
  },
  {
   "cell_type": "markdown",
   "metadata": {},
   "source": [
    "4. while循环"
   ]
  },
  {
   "cell_type": "code",
   "execution_count": null,
   "metadata": {},
   "outputs": [],
   "source": [
    "while True：\n",
    "    pass"
   ]
  },
  {
   "cell_type": "markdown",
   "metadata": {},
   "source": [
    "5. for循环"
   ]
  },
  {
   "cell_type": "code",
   "execution_count": 53,
   "metadata": {},
   "outputs": [
    {
     "name": "stdout",
     "output_type": "stream",
     "text": [
      "F i s h C "
     ]
    }
   ],
   "source": [
    "favorite = 'FishC'\n",
    "for i in favorite:\n",
    "    print( i, end= ' ')"
   ]
  },
  {
   "cell_type": "code",
   "execution_count": 55,
   "metadata": {},
   "outputs": [
    {
     "name": "stdout",
     "output_type": "stream",
     "text": [
      "小甲鱼 3\n",
      "小布丁 3\n",
      "黑夜 2\n",
      "迷途 2\n",
      "怡静 2\n"
     ]
    }
   ],
   "source": [
    "member = ['小甲鱼', '小布丁', '黑夜', '迷途', '怡静']\n",
    "for each in member:\n",
    "    print(each, len(each))"
   ]
  },
  {
   "cell_type": "markdown",
   "metadata": {},
   "source": [
    "* range()\n",
    "![range](./range.png)"
   ]
  },
  {
   "cell_type": "code",
   "execution_count": 56,
   "metadata": {},
   "outputs": [
    {
     "data": {
      "text/plain": [
       "[0, 1, 2, 3, 4]"
      ]
     },
     "execution_count": 56,
     "metadata": {},
     "output_type": "execute_result"
    }
   ],
   "source": [
    "list(range(5))"
   ]
  },
  {
   "cell_type": "code",
   "execution_count": 57,
   "metadata": {},
   "outputs": [
    {
     "name": "stdout",
     "output_type": "stream",
     "text": [
      "0\n",
      "1\n",
      "2\n",
      "3\n",
      "4\n"
     ]
    }
   ],
   "source": [
    "for i in range(5):\n",
    "    print(i)"
   ]
  },
  {
   "cell_type": "code",
   "execution_count": 58,
   "metadata": {},
   "outputs": [
    {
     "name": "stdout",
     "output_type": "stream",
     "text": [
      "2\n",
      "3\n",
      "4\n",
      "5\n",
      "6\n",
      "7\n",
      "8\n"
     ]
    }
   ],
   "source": [
    "for i in range(2,9):\n",
    "    print(i)"
   ]
  },
  {
   "cell_type": "markdown",
   "metadata": {},
   "source": [
    "6. break and continue"
   ]
  },
  {
   "cell_type": "code",
   "execution_count": 59,
   "metadata": {},
   "outputs": [
    {
     "name": "stdout",
     "output_type": "stream",
     "text": [
      "------------------------------------------------\n",
      "不妨猜一下我现在心里想的是哪一个数字： 5\n",
      "小了小了\n",
      "不妨猜一下我现在心里想的是哪一个数字： 7\n",
      "小了小了\n",
      "不妨猜一下我现在心里想的是哪一个数字： 9\n",
      "小了小了\n",
      "不妨猜一下我现在心里想的是哪一个数字： 10\n",
      "你是我肚里的蛔虫咩\n",
      "猜中也没有奖励\n",
      "游戏结束，不玩啦^-^\n",
      "------------------------------------------------\n"
     ]
    }
   ],
   "source": [
    "import random\n",
    "secret = random.randint(1,10)\n",
    "\n",
    "print('------------------------------------------------')\n",
    "\n",
    "#temp = input('不妨猜一下我现在心里想的是哪一个数字： ')\n",
    "#guess = int(temp)\n",
    "\n",
    "while True:\n",
    "    temp = input('不妨猜一下我现在心里想的是哪一个数字： ')\n",
    "    guess = int(temp)\n",
    "    if guess == secret:\n",
    "        print('你是我肚里的蛔虫咩')\n",
    "        print('猜中也没有奖励')\n",
    "        break\n",
    "    else:\n",
    "        if guess > secret:\n",
    "            print('大了大了')\n",
    "        else:\n",
    "            print('小了小了')\n",
    "print('游戏结束，不玩啦^-^')       \n",
    "\n",
    "print('------------------------------------------------')"
   ]
  },
  {
   "cell_type": "code",
   "execution_count": 60,
   "metadata": {},
   "outputs": [
    {
     "name": "stdout",
     "output_type": "stream",
     "text": [
      "2\n",
      "1\n",
      "4\n",
      "3\n",
      "6\n",
      "5\n",
      "8\n",
      "7\n",
      "10\n",
      "9\n"
     ]
    }
   ],
   "source": [
    "for i in range(10):\n",
    "    if i % 2 != 0:\n",
    "        print(i)\n",
    "        continue\n",
    "    i += 2\n",
    "    print(i)   "
   ]
  },
  {
   "cell_type": "code",
   "execution_count": null,
   "metadata": {},
   "outputs": [],
   "source": []
  },
  {
   "cell_type": "code",
   "execution_count": null,
   "metadata": {},
   "outputs": [],
   "source": []
  },
  {
   "cell_type": "code",
   "execution_count": null,
   "metadata": {},
   "outputs": [],
   "source": []
  }
 ],
 "metadata": {
  "kernelspec": {
   "display_name": "py35",
   "language": "python",
   "name": "py35"
  },
  "language_info": {
   "codemirror_mode": {
    "name": "ipython",
    "version": 3
   },
   "file_extension": ".py",
   "mimetype": "text/x-python",
   "name": "python",
   "nbconvert_exporter": "python",
   "pygments_lexer": "ipython3",
   "version": "3.5.6"
  }
 },
 "nbformat": 4,
 "nbformat_minor": 2
}
